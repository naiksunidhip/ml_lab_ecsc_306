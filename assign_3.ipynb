{
 "cells": [
  {
   "cell_type": "code",
   "execution_count": 34,
   "metadata": {},
   "outputs": [
    {
     "name": "stdout",
     "output_type": "stream",
     "text": [
      "Epoch: 0050 cost= 0.527059555 W= 1.80745 b= 1.49235\n",
      "Epoch: 0100 cost= 0.243022203 W= 1.54828 b= 2.29721\n",
      "Optimization Finished!\n",
      "Training cost= 0.243022 W= 1.54828 b= 2.29721 \n",
      "\n",
      "Epoch: 0050 cost= 0.112055153 W= 1.37231 b= 2.84375\n",
      "Epoch: 0100 cost= 0.051667683 W= 1.25281 b= 3.21486\n",
      "Epoch: 0150 cost= 0.023823561 W= 1.17167 b= 3.46686\n",
      "Epoch: 0200 cost= 0.010984894 W= 1.11657 b= 3.63798\n",
      "Optimization Finished!\n",
      "Training cost= 0.0109849 W= 1.11657 b= 3.63798 \n",
      "\n",
      "Epoch: 0050 cost= 0.005064989 W= 1.07915 b= 3.75417\n",
      "Epoch: 0100 cost= 0.002335453 W= 1.05375 b= 3.83307\n",
      "Epoch: 0150 cost= 0.001076852 W= 1.0365 b= 3.88665\n",
      "Epoch: 0200 cost= 0.000496563 W= 1.02478 b= 3.92303\n",
      "Epoch: 0250 cost= 0.000228965 W= 1.01683 b= 3.94773\n",
      "Epoch: 0300 cost= 0.000105575 W= 1.01143 b= 3.96451\n",
      "Optimization Finished!\n",
      "Training cost= 0.000105575 W= 1.01143 b= 3.96451 \n",
      "\n",
      "Epoch: 0050 cost= 0.000048680 W= 1.00776 b= 3.9759\n",
      "Epoch: 0100 cost= 0.000022445 W= 1.00527 b= 3.98364\n",
      "Epoch: 0150 cost= 0.000010350 W= 1.00358 b= 3.98889\n",
      "Epoch: 0200 cost= 0.000004773 W= 1.00243 b= 3.99245\n",
      "Epoch: 0250 cost= 0.000002201 W= 1.00165 b= 3.99488\n",
      "Epoch: 0300 cost= 0.000001014 W= 1.00112 b= 3.99652\n",
      "Epoch: 0350 cost= 0.000000468 W= 1.00076 b= 3.99764\n",
      "Epoch: 0400 cost= 0.000000216 W= 1.00052 b= 3.9984\n",
      "Optimization Finished!\n",
      "Training cost= 2.15669e-07 W= 1.00052 b= 3.9984 \n",
      "\n"
     ]
    },
    {
     "data": {
      "image/png": "[encoded data removed]",
      "text/plain": [
       "<matplotlib.figure.Figure at 0x7f2c989e48d0>"
      ]
     },
     "metadata": {},
     "output_type": "display_data"
    },
    {
     "name": "stdout",
     "output_type": "stream",
     "text": [
      "Epoch: 0050 cost= 0.000000197 W= 1.00052 b= 3.99846\n",
      "Epoch: 0100 cost= 0.000000182 W= 1.0005 b= 3.99852\n",
      "Optimization Finished!\n",
      "Training cost= 1.82364e-07 W= 1.0005 b= 3.99852 \n",
      "\n",
      "Epoch: 0050 cost= 0.000000171 W= 1.00048 b= 3.99857\n",
      "Epoch: 0100 cost= 0.000000160 W= 1.00047 b= 3.99862\n",
      "Epoch: 0150 cost= 0.000000148 W= 1.00045 b= 3.99867\n",
      "Epoch: 0200 cost= 0.000000136 W= 1.00043 b= 3.99872\n",
      "Optimization Finished!\n",
      "Training cost= 1.36486e-07 W= 1.00043 b= 3.99872 \n",
      "\n",
      "Epoch: 0050 cost= 0.000000126 W= 1.00042 b= 3.99877\n",
      "Epoch: 0100 cost= 0.000000117 W= 1.0004 b= 3.99882\n",
      "Epoch: 0150 cost= 0.000000108 W= 1.00039 b= 3.99886\n",
      "Epoch: 0200 cost= 0.000000099 W= 1.00037 b= 3.99891\n",
      "Epoch: 0250 cost= 0.000000090 W= 1.00035 b= 3.99896\n",
      "Epoch: 0300 cost= 0.000000083 W= 1.00034 b= 3.999\n",
      "Optimization Finished!\n",
      "Training cost= 8.29467e-08 W= 1.00034 b= 3.999 \n",
      "\n",
      "Epoch: 0050 cost= 0.000000077 W= 1.00032 b= 3.99904\n",
      "Epoch: 0100 cost= 0.000000071 W= 1.00031 b= 3.99907\n",
      "Epoch: 0150 cost= 0.000000066 W= 1.0003 b= 3.99911\n",
      "Epoch: 0200 cost= 0.000000062 W= 1.00029 b= 3.99914\n",
      "Epoch: 0250 cost= 0.000000059 W= 1.00028 b= 3.99916\n",
      "Epoch: 0300 cost= 0.000000056 W= 1.00028 b= 3.99918\n",
      "Epoch: 0350 cost= 0.000000052 W= 1.00027 b= 3.99921\n",
      "Epoch: 0400 cost= 0.000000048 W= 1.00026 b= 3.99924\n",
      "Optimization Finished!\n",
      "Training cost= 4.78967e-08 W= 1.00026 b= 3.99924 \n",
      "\n"
     ]
    },
    {
     "data": {
      "image/png": "[encoded data removed]",
      "text/plain": [
       "<matplotlib.figure.Figure at 0x7f2c9830e278>"
      ]
     },
     "metadata": {},
     "output_type": "display_data"
    }
   ],
   "source": [
    "import tensorflow as tf\n",
    "import numpy\n",
    "import matplotlib.pyplot as plt\n",
    "rng = numpy.random\n",
    "\n",
    "rate_list=[0.05,0.005]\n",
    "epoch_list=[100,200,300,400]\n",
    "j=[]\n",
    "learning_rate = 0.005\n",
    "#training_epochs = 1000\n",
    "display_step = 50\n",
    "\n",
    "train_X = numpy.asarray([1.,2.,3.,4.])\n",
    "train_Y = numpy.asarray([5.,6.,7.,8.])\n",
    "n_samples = train_X.shape[0]\n",
    "\n",
    "X = tf.placeholder(\"float\")\n",
    "Y = tf.placeholder(\"float\")\n",
    "\n",
    "W = tf.Variable(rng.randn(), name=\"weight\")\n",
    "b = tf.Variable(rng.randn(), name=\"bias\")\n",
    "\n",
    "pred = tf.add(tf.multiply(X, W), b)\n",
    "\n",
    "cost = tf.reduce_sum(tf.pow(pred-Y, 2))/(2*n_samples)\n",
    "\n",
    "#optimizer = tf.train.GradientDescentOptimizer(learning_rate).minimize(cost)\n",
    "\n",
    "init = tf.global_variables_initializer()\n",
    "\n",
    "with tf.Session() as sess:\n",
    "    sess.run(init)\n",
    "    for rate in rate_list:\n",
    "        optimizer = tf.train.GradientDescentOptimizer(rate).minimize(cost)\n",
    "        for training_epochs in epoch_list:\n",
    "            #optimizer = tf.train.GradientDescentOptimizer(rate).minimize(cost)\n",
    "            for epoch in range(training_epochs):\n",
    "                for (x, y) in zip(train_X, train_Y):\n",
    "                    sess.run(optimizer, feed_dict={X: x, Y: y})\n",
    "                if (epoch+1) % display_step == 0:\n",
    "                    c = sess.run(cost, feed_dict={X: train_X, Y:train_Y})\n",
    "                    print(\"Epoch:\", '%04d' % (epoch+1), \"cost=\", \"{:.9f}\".format(c), \"W=\", sess.run(W), \"b=\", sess.run(b))\n",
    "            print(\"Optimization Finished!\")\n",
    "            training_cost = sess.run(cost, feed_dict={X: train_X, Y: train_Y})\n",
    "            print(\"Training cost=\", training_cost, \"W=\", sess.run(W), \"b=\", sess.run(b), '\\n')\n",
    "            j.append(training_cost)\n",
    "        plt.plot(train_X, train_Y, 'ro', label='Original data')\n",
    "        plt.plot(train_X, sess.run(W) * train_X + sess.run(b), label='Fitted line')\n",
    "        plt.legend()\n",
    "        plt.show()\n",
    "    \n",
    "#print(j)\n",
    "\n"
   ]
  },
  {
   "cell_type": "code",
   "execution_count": null,
   "metadata": {
    "collapsed": true
   },
   "outputs": [],
   "source": []
  }
 ],
 "metadata": {
  "kernelspec": {
   "display_name": "Python 3",
   "language": "python",
   "name": "python3"
  },
  "language_info": {
   "codemirror_mode": {
    "name": "ipython",
    "version": 3
   },
   "file_extension": ".py",
   "mimetype": "text/x-python",
   "name": "python",
   "nbconvert_exporter": "python",
   "pygments_lexer": "ipython3",
   "version": "3.6.1"
  }
 },
 "nbformat": 4,
 "nbformat_minor": 2
}
